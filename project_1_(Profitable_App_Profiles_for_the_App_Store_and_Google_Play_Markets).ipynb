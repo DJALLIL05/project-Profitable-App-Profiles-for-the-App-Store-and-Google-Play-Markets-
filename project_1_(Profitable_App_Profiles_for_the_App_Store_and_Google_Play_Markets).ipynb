{
 "cells": [
  {
   "cell_type": "markdown",
   "metadata": {},
   "source": [
    "# Profitable App Profiles for the App Store and Google Play Markets"
   ]
  },
  {
   "cell_type": "markdown",
   "metadata": {},
   "source": [
    "![google play app store](https://www.juristique.org/wp-content/uploads/2018/04/Juristique-google-app-store-300x200.jpg)"
   ]
  },
  {
   "cell_type": "markdown",
   "metadata": {},
   "source": [
    "## description\n",
    "analyze data to help developers understand what type of apps are likely to attract more users\n",
    "* [AppleStore dataset](https://www.kaggle.com/ramamet4/app-store-apple-data-set-10k-apps)\n",
    "* [GooglePlay store dataset](https://www.kaggle.com/lava18/google-play-store-apps)"
   ]
  },
  {
   "cell_type": "code",
   "execution_count": 1,
   "metadata": {},
   "outputs": [],
   "source": [
    "def explore_data(dataset, start, end, rows_and_columns=False):\n",
    "    dataset_slice = dataset[start:end]    \n",
    "    for row in dataset_slice:\n",
    "        print(row)\n",
    "        print('\\n') # adds a new (empty) line after each row\n",
    "\n",
    "    if rows_and_columns:\n",
    "        print('Number of rows:', len(dataset))\n",
    "        print('Number of columns:', len(dataset[0]))"
   ]
  },
  {
   "cell_type": "code",
   "execution_count": 2,
   "metadata": {},
   "outputs": [],
   "source": [
    "from csv import reader\n",
    "app_store = reader(open('AppleStore.csv', encoding = 'utf8'))\n",
    "google_play_store = reader(open('googleplaystore.csv', encoding = 'utf8'))\n",
    "app_store = list(app_store)\n",
    "google_play_store = list(google_play_store)"
   ]
  },
  {
   "cell_type": "code",
   "execution_count": 3,
   "metadata": {},
   "outputs": [
    {
     "name": "stdout",
     "output_type": "stream",
     "text": [
      "['id', 'track_name', 'size_bytes', 'currency', 'price', 'rating_count_tot', 'rating_count_ver', 'user_rating', 'user_rating_ver', 'ver', 'cont_rating', 'prime_genre', 'sup_devices.num', 'ipadSc_urls.num', 'lang.num', 'vpp_lic']\n",
      "\n",
      "\n",
      "['284882215', 'Facebook', '389879808', 'USD', '0.0', '2974676', '212', '3.5', '3.5', '95.0', '4+', 'Social Networking', '37', '1', '29', '1']\n",
      "\n",
      "\n",
      "['389801252', 'Instagram', '113954816', 'USD', '0.0', '2161558', '1289', '4.5', '4.0', '10.23', '12+', 'Photo & Video', '37', '0', '29', '1']\n",
      "\n",
      "\n",
      "['529479190', 'Clash of Clans', '116476928', 'USD', '0.0', '2130805', '579', '4.5', '4.5', '9.24.12', '9+', 'Games', '38', '5', '18', '1']\n",
      "\n",
      "\n",
      "['420009108', 'Temple Run', '65921024', 'USD', '0.0', '1724546', '3842', '4.5', '4.0', '1.6.2', '9+', 'Games', '40', '5', '1', '1']\n",
      "\n",
      "\n",
      "['284035177', 'Pandora - Music & Radio', '130242560', 'USD', '0.0', '1126879', '3594', '4.0', '4.5', '8.4.1', '12+', 'Music', '37', '4', '1', '1']\n",
      "\n",
      "\n",
      "['429047995', 'Pinterest', '74778624', 'USD', '0.0', '1061624', '1814', '4.5', '4.0', '6.26', '12+', 'Social Networking', '37', '5', '27', '1']\n",
      "\n",
      "\n",
      "['282935706', 'Bible', '92774400', 'USD', '0.0', '985920', '5320', '4.5', '5.0', '7.5.1', '4+', 'Reference', '37', '5', '45', '1']\n",
      "\n",
      "\n",
      "['553834731', 'Candy Crush Saga', '222846976', 'USD', '0.0', '961794', '2453', '4.5', '4.5', '1.101.0', '4+', 'Games', '43', '5', '24', '1']\n",
      "\n",
      "\n",
      "['324684580', 'Spotify Music', '132510720', 'USD', '0.0', '878563', '8253', '4.5', '4.5', '8.4.3', '12+', 'Music', '37', '5', '18', '1']\n",
      "\n",
      "\n",
      "None\n",
      "\n",
      "\n",
      "['App', 'Category', 'Rating', 'Reviews', 'Size', 'Installs', 'Type', 'Price', 'Content Rating', 'Genres', 'Last Updated', 'Current Ver', 'Android Ver']\n",
      "\n",
      "\n",
      "['Photo Editor & Candy Camera & Grid & ScrapBook', 'ART_AND_DESIGN', '4.1', '159', '19M', '10,000+', 'Free', '0', 'Everyone', 'Art & Design', 'January 7, 2018', '1.0.0', '4.0.3 and up']\n",
      "\n",
      "\n",
      "['Coloring book moana', 'ART_AND_DESIGN', '3.9', '967', '14M', '500,000+', 'Free', '0', 'Everyone', 'Art & Design;Pretend Play', 'January 15, 2018', '2.0.0', '4.0.3 and up']\n",
      "\n",
      "\n",
      "['U Launcher Lite – FREE Live Cool Themes, Hide Apps', 'ART_AND_DESIGN', '4.7', '87510', '8.7M', '5,000,000+', 'Free', '0', 'Everyone', 'Art & Design', 'August 1, 2018', '1.2.4', '4.0.3 and up']\n",
      "\n",
      "\n",
      "['Sketch - Draw & Paint', 'ART_AND_DESIGN', '4.5', '215644', '25M', '50,000,000+', 'Free', '0', 'Teen', 'Art & Design', 'June 8, 2018', 'Varies with device', '4.2 and up']\n",
      "\n",
      "\n",
      "['Pixel Draw - Number Art Coloring Book', 'ART_AND_DESIGN', '4.3', '967', '2.8M', '100,000+', 'Free', '0', 'Everyone', 'Art & Design;Creativity', 'June 20, 2018', '1.1', '4.4 and up']\n",
      "\n",
      "\n",
      "['Paper flowers instructions', 'ART_AND_DESIGN', '4.4', '167', '5.6M', '50,000+', 'Free', '0', 'Everyone', 'Art & Design', 'March 26, 2017', '1.0', '2.3 and up']\n",
      "\n",
      "\n",
      "['Smoke Effect Photo Maker - Smoke Editor', 'ART_AND_DESIGN', '3.8', '178', '19M', '50,000+', 'Free', '0', 'Everyone', 'Art & Design', 'April 26, 2018', '1.1', '4.0.3 and up']\n",
      "\n",
      "\n",
      "['Infinite Painter', 'ART_AND_DESIGN', '4.1', '36815', '29M', '1,000,000+', 'Free', '0', 'Everyone', 'Art & Design', 'June 14, 2018', '6.1.61.1', '4.2 and up']\n",
      "\n",
      "\n",
      "['Garden Coloring Book', 'ART_AND_DESIGN', '4.4', '13791', '33M', '1,000,000+', 'Free', '0', 'Everyone', 'Art & Design', 'September 20, 2017', '2.9.2', '3.0 and up']\n",
      "\n",
      "\n",
      "None\n"
     ]
    }
   ],
   "source": [
    "print(explore_data(app_store, 0, 10))\n",
    "print('\\n')\n",
    "print(explore_data(google_play_store, 0 ,10))\n",
    "      "
   ]
  },
  {
   "cell_type": "code",
   "execution_count": 4,
   "metadata": {},
   "outputs": [
    {
     "name": "stdout",
     "output_type": "stream",
     "text": [
      "['id', 'track_name', 'size_bytes', 'currency', 'price', 'rating_count_tot', 'rating_count_ver', 'user_rating', 'user_rating_ver', 'ver', 'cont_rating', 'prime_genre', 'sup_devices.num', 'ipadSc_urls.num', 'lang.num', 'vpp_lic']\n",
      "\n",
      "\n",
      "None\n",
      "\n",
      "\n",
      "['App', 'Category', 'Rating', 'Reviews', 'Size', 'Installs', 'Type', 'Price', 'Content Rating', 'Genres', 'Last Updated', 'Current Ver', 'Android Ver']\n",
      "\n",
      "\n",
      "None\n"
     ]
    }
   ],
   "source": [
    "print(explore_data(app_store, 0, 1))\n",
    "print('\\n')\n",
    "print(explore_data(google_play_store, 0, 1))"
   ]
  },
  {
   "cell_type": "code",
   "execution_count": 5,
   "metadata": {},
   "outputs": [
    {
     "name": "stdout",
     "output_type": "stream",
     "text": [
      "['Xposed Wi-Fi-Pwd', 'PERSONALIZATION', '3.5', '1042', '404k', '100,000+', 'Free', '0', 'Everyone', 'Personalization', 'August 5, 2014', '3.0.0', '4.0.3 and up']\n",
      "\n",
      "\n",
      "['Life Made WI-Fi Touchscreen Photo Frame', '1.9', '19', '3.0M', '1,000+', 'Free', '0', 'Everyone', '', 'February 11, 2018', '1.0.19', '4.0 and up']\n",
      "\n",
      "\n",
      "None\n",
      "['App', 'Category', 'Rating', 'Reviews', 'Size', 'Installs', 'Type', 'Price', 'Content Rating', 'Genres', 'Last Updated', 'Current Ver', 'Android Ver']\n",
      "\n",
      "\n",
      "None\n"
     ]
    }
   ],
   "source": [
    "print(explore_data(google_play_store, 10472, 10474))\n",
    "print(explore_data(google_play_store, 0, 1))"
   ]
  },
  {
   "cell_type": "code",
   "execution_count": 6,
   "metadata": {},
   "outputs": [
    {
     "name": "stdout",
     "output_type": "stream",
     "text": [
      "10473 ['Life Made WI-Fi Touchscreen Photo Frame', '1.9', '19', '3.0M', '1,000+', 'Free', '0', 'Everyone', '', 'February 11, 2018', '1.0.19', '4.0 and up']\n"
     ]
    }
   ],
   "source": [
    "#checking for rows which don't have the length as the header row\n",
    "headerlength = len(google_play_store[0])\n",
    "for idx, val in enumerate(google_play_store):\n",
    "    if len(val) != headerlength :\n",
    "        print(idx, val)\n",
    "        "
   ]
  },
  {
   "cell_type": "code",
   "execution_count": 7,
   "metadata": {},
   "outputs": [],
   "source": [
    "#don't run it again\n",
    "del google_play_store[10473]"
   ]
  },
  {
   "cell_type": "markdown",
   "metadata": {},
   "source": [
    "the Google Play data set has duplicate entries"
   ]
  },
  {
   "cell_type": "code",
   "execution_count": 8,
   "metadata": {},
   "outputs": [
    {
     "name": "stdout",
     "output_type": "stream",
     "text": [
      "['Instagram', 'SOCIAL', '4.5', '66577313', 'Varies with device', '1,000,000,000+', 'Free', '0', 'Teen', 'Social', 'July 31, 2018', 'Varies with device', 'Varies with device']\n",
      "['Instagram', 'SOCIAL', '4.5', '66577446', 'Varies with device', '1,000,000,000+', 'Free', '0', 'Teen', 'Social', 'July 31, 2018', 'Varies with device', 'Varies with device']\n",
      "['Instagram', 'SOCIAL', '4.5', '66577313', 'Varies with device', '1,000,000,000+', 'Free', '0', 'Teen', 'Social', 'July 31, 2018', 'Varies with device', 'Varies with device']\n",
      "['Instagram', 'SOCIAL', '4.5', '66509917', 'Varies with device', '1,000,000,000+', 'Free', '0', 'Teen', 'Social', 'July 31, 2018', 'Varies with device', 'Varies with device']\n"
     ]
    }
   ],
   "source": [
    "for app in google_play_store :\n",
    "    name = app[0]\n",
    "    if name == 'Instagram' :\n",
    "        print(app)"
   ]
  },
  {
   "cell_type": "markdown",
   "metadata": {},
   "source": [
    "we can see that there are 4 duplicate entries for instagram app"
   ]
  },
  {
   "cell_type": "code",
   "execution_count": 9,
   "metadata": {},
   "outputs": [
    {
     "name": "stdout",
     "output_type": "stream",
     "text": [
      "Number of duplicate apps 1181\n",
      "\n",
      "\n",
      "Number of unique apps 9659\n"
     ]
    }
   ],
   "source": [
    "#counting duplicate apps\n",
    "duplicate_apps = list()\n",
    "unique_apps = list()\n",
    "for app in google_play_store[1:] :\n",
    "    name = app[0]\n",
    "    if name in unique_apps :\n",
    "        duplicate_apps.append(name)\n",
    "    else :\n",
    "        unique_apps.append(name)\n",
    "print('Number of duplicate apps', len(duplicate_apps))\n",
    "print('\\n')\n",
    "print('Number of unique apps', len(unique_apps))"
   ]
  },
  {
   "cell_type": "markdown",
   "metadata": {},
   "source": [
    "since we have duplicate entries we have to remove them and keep one entry from each duplicate app\n",
    "we can randomaly remove duplicate unless there is another way \n",
    "here we can see the duplicates are different i terms of **reviews** so we're going to keep the entry with the largest reviews \n"
   ]
  },
  {
   "cell_type": "markdown",
   "metadata": {},
   "source": [
    "in the code below we created an empty dictionary to store unique apps with the highest reviews\n",
    "1. create emplty dictionary reviews_max\n",
    "2. loop through the google_play_store data set (excluding the header row)\n",
    "3. assigning the name of the app and the reviews to name and n_reviews varables respectively\n",
    "4. if the app is a key in reviews_max and the it's value is less then n_reviews then the new value of that key is n_reviews\n",
    "5. if the name is not a key then we'll add it and it's value is n_reviews"
   ]
  },
  {
   "cell_type": "code",
   "execution_count": 10,
   "metadata": {},
   "outputs": [
    {
     "name": "stdout",
     "output_type": "stream",
     "text": [
      "9659\n"
     ]
    }
   ],
   "source": [
    "reviews_max = dict()\n",
    "for app in google_play_store[1:] :\n",
    "    name = app[0]\n",
    "    n_reviews = float(app[3])\n",
    "    if name in reviews_max and reviews_max[name] < n_reviews :\n",
    "        reviews_max[name] = n_reviews\n",
    "    if name not in reviews_max :\n",
    "        reviews_max[name] = n_reviews\n",
    "print(len(reviews_max))"
   ]
  },
  {
   "cell_type": "markdown",
   "metadata": {},
   "source": [
    "in the code below we removed duplicate entries\n",
    "1. create two empty lists android_clean to store the new data without duplicates and already_added list to store names of the apps\n",
    "2. loop through the  google_play_store (excluding the header row)\n",
    "3. assign apps name and reviews to name and n_reviews variables respectively\n",
    "4. if number of reviews is equal to the number of reviews in the dict and name is not in already_added **append the whole row to android_clean and append app's name to already_added**"
   ]
  },
  {
   "cell_type": "code",
   "execution_count": 11,
   "metadata": {},
   "outputs": [
    {
     "name": "stdout",
     "output_type": "stream",
     "text": [
      "9659\n"
     ]
    }
   ],
   "source": [
    "android_clean = list()\n",
    "already_added = list()\n",
    "for app in google_play_store[1:] :\n",
    "    name = app[0]\n",
    "    n_reviews = float(app[3])\n",
    "    if n_reviews == reviews_max[name] and name not in already_added :\n",
    "        android_clean.append(app)\n",
    "        already_added.append(name)\n",
    "print(len(android_clean))"
   ]
  },
  {
   "cell_type": "code",
   "execution_count": 12,
   "metadata": {},
   "outputs": [
    {
     "name": "stdout",
     "output_type": "stream",
     "text": [
      "97\n"
     ]
    }
   ],
   "source": [
    "print(ord('a'))"
   ]
  },
  {
   "cell_type": "code",
   "execution_count": 13,
   "metadata": {},
   "outputs": [],
   "source": [
    "def is_english(string) :\n",
    "    bool_list = []\n",
    "    False_count = 0\n",
    "    for i in string :\n",
    "        if ord(i) <= 127 : \n",
    "            bool_list.append(True)\n",
    "        else : \n",
    "            bool_list.append(False)\n",
    "    for val in bool_list :\n",
    "        if val == False :\n",
    "            False_count += 1\n",
    "    if False_count <= 3 :\n",
    "        return True\n",
    "    else : return False"
   ]
  },
  {
   "cell_type": "code",
   "execution_count": 14,
   "metadata": {},
   "outputs": [
    {
     "name": "stdout",
     "output_type": "stream",
     "text": [
      "False\n"
     ]
    }
   ],
   "source": [
    "print(is_english('爱奇艺PPS -《欢乐颂2》电视剧热播'))"
   ]
  },
  {
   "cell_type": "code",
   "execution_count": 36,
   "metadata": {},
   "outputs": [
    {
     "name": "stdout",
     "output_type": "stream",
     "text": [
      "Number of English apps on google play store 9614\n",
      "\n",
      "\n",
      "Number of English apps on appstore 6183\n"
     ]
    }
   ],
   "source": [
    "english_android = []\n",
    "english_appel = []\n",
    "for app in android_clean :\n",
    "    if is_english(app[0]) == True :\n",
    "        english_android.append(app)\n",
    "for app in app_store[1:] :\n",
    "    if is_english(app[1]) == True :\n",
    "        english_appel.append(app)\n",
    "print('Number of English apps on google play store', len(english_android))\n",
    "print('\\n')\n",
    "print('Number of English apps on appstore', len(english_appel))"
   ]
  },
  {
   "cell_type": "code",
   "execution_count": 37,
   "metadata": {},
   "outputs": [
    {
     "name": "stdout",
     "output_type": "stream",
     "text": [
      "Number of Free apps on android 8863\n",
      "\n",
      "\n",
      "Number of paid apps on android 751\n",
      "\n",
      "\n",
      "Number of Free apps on appstore 3222\n",
      "\n",
      "\n",
      "Number of paid apps on appstore 2961\n"
     ]
    }
   ],
   "source": [
    "paid_android = []\n",
    "free_android = []\n",
    "free_appel = []\n",
    "paid_appel = []\n",
    "for app in english_android :\n",
    "    if app[6] == 'Free' : free_android.append(app)\n",
    "    else : paid_android.append(app)\n",
    "for app in english_appel :\n",
    "    if app[4] == '0.0' : free_appel.append(app)\n",
    "    else : paid_appel.append(app)\n",
    "print('Number of Free apps on android', len(free_android))\n",
    "print('\\n')\n",
    "print('Number of paid apps on android', len(paid_android))\n",
    "print('\\n')\n",
    "print('Number of Free apps on appstore', len(free_appel))\n",
    "print('\\n')\n",
    "print('Number of paid apps on appstore', len(paid_appel))"
   ]
  },
  {
   "cell_type": "code",
   "execution_count": 65,
   "metadata": {},
   "outputs": [],
   "source": [
    "appel_genre = dict()\n",
    "for app in free_appel :\n",
    "    appel_genre[app[11]] = appel_genre.get(app[11], 0) + 1\n",
    "android_genre = dict()\n",
    "for app in free_android :\n",
    "    android_genre[(app[1], app[9])] = android_genre.get((app[1], app[9]), 0) + 1"
   ]
  },
  {
   "cell_type": "code",
   "execution_count": 71,
   "metadata": {},
   "outputs": [],
   "source": [
    "def freq_table(dataset, index) :\n",
    "    d = dict()\n",
    "    sum_ = 0\n",
    "    for app in dataset :\n",
    "        d[app[index]] = d.get(app[index], 0) + 1\n",
    "        sum_ += 1\n",
    "    for app in dataset :\n",
    "        d[app[index]] = (d[app[index]] / sum_) * 100\n",
    "    return d"
   ]
  },
  {
   "cell_type": "code",
   "execution_count": 72,
   "metadata": {},
   "outputs": [],
   "source": [
    "def display_table(dataset, index):\n",
    "    table = freq_table(dataset, index)\n",
    "    table_display = []\n",
    "    for key in table:\n",
    "        key_val_as_tuple = (table[key], key)\n",
    "        table_display.append(key_val_as_tuple)\n",
    "\n",
    "    table_sorted = sorted(table_display, reverse = True)\n",
    "    for entry in table_sorted:\n",
    "        print(entry[1], ':', entry[0])"
   ]
  },
  {
   "cell_type": "code",
   "execution_count": 73,
   "metadata": {},
   "outputs": [
    {
     "name": "stdout",
     "output_type": "stream",
     "text": [
      "Catalogs : 3.7115716345467246e-06\n",
      "Navigation : 5.362879439402763e-09\n",
      "Medical : 5.362879439402763e-09\n",
      "Book : 1.0773840220052753e-20\n",
      "Business : 3.911243081694508e-25\n",
      "Reference : 1.2853247064392068e-26\n",
      "Food & Drink : 1.5984881084956957e-38\n",
      "Weather : 1.6582233298175195e-41\n",
      "Finance : 1.8356217788700374e-53\n",
      "Travel : 1.8925115906139538e-59\n",
      "News : 6.082335947682432e-64\n",
      "Lifestyle : 6.211090193718623e-76\n",
      "Productivity : 1.9640747225365023e-83\n",
      "Health & Fitness : 6.091910458074178e-97\n",
      "Music : 1.919811346191547e-98\n",
      "Sports : 6.000495314964152e-103\n",
      "Utilities : 5.627514155983488e-121\n",
      "Shopping : 1.7447542105794118e-125\n",
      "Social Networking : 1.4588110370936591e-158\n",
      "Education : 1.2973846327242274e-176\n",
      "Photo & Video : 8.017412139962732e-240\n",
      "Games : 0.0\n",
      "Entertainment : 0.0\n"
     ]
    }
   ],
   "source": [
    "display_table(free_appel, 11)"
   ]
  },
  {
   "cell_type": "code",
   "execution_count": 74,
   "metadata": {},
   "outputs": [
    {
     "name": "stdout",
     "output_type": "stream",
     "text": [
      "BEAUTY : 3.1805055405688027e-102\n",
      "COMICS : 4.201665529539004e-106\n",
      "ART_AND_DESIGN : 5.54334802249528e-110\n",
      "PARENTING : 6.364210472964216e-112\n",
      "EVENTS : 1.2640182468275306e-121\n",
      "WEATHER : 3.741322520228754e-137\n",
      "HOUSE_AND_HOME : 4.8969780899712985e-141\n",
      "AUTO_AND_VEHICLES : 1.6300180343866116e-158\n",
      "LIBRARIES_AND_DEMO : 1.8615551202737706e-160\n",
      "ENTERTAINMENT : 2.426918738103155e-164\n",
      "EDUCATION : 2.582379386512391e-199\n",
      "FOOD_AND_DRINK : 6.419633898951374e-213\n",
      "MAPS_AND_NAVIGATION : 3.9211077028319345e-240\n",
      "VIDEO_PLAYERS : 3.4360382118500873e-308\n",
      "DATING : 7.3616e-320\n",
      "TRAVEL_AND_LOCAL : 0.0\n",
      "TOOLS : 0.0\n",
      "SPORTS : 0.0\n",
      "SOCIAL : 0.0\n",
      "SHOPPING : 0.0\n",
      "PRODUCTIVITY : 0.0\n",
      "PHOTOGRAPHY : 0.0\n",
      "PERSONALIZATION : 0.0\n",
      "NEWS_AND_MAGAZINES : 0.0\n",
      "MEDICAL : 0.0\n",
      "LIFESTYLE : 0.0\n",
      "HEALTH_AND_FITNESS : 0.0\n",
      "GAME : 0.0\n",
      "FINANCE : 0.0\n",
      "FAMILY : 0.0\n",
      "COMMUNICATION : 0.0\n",
      "BUSINESS : 0.0\n",
      "BOOKS_AND_REFERENCE : 0.0\n"
     ]
    }
   ],
   "source": [
    "display_table(free_android, 1)"
   ]
  },
  {
   "cell_type": "code",
   "execution_count": 75,
   "metadata": {},
   "outputs": [
    {
     "name": "stdout",
     "output_type": "stream",
     "text": [
      "Video Players & Editors;Creativity : 0.011282861333634209\n",
      "Trivia;Education : 0.011282861333634209\n",
      "Travel & Local;Action & Adventure : 0.011282861333634209\n",
      "Tools;Education : 0.011282861333634209\n",
      "Strategy;Education : 0.011282861333634209\n",
      "Strategy;Creativity : 0.011282861333634209\n",
      "Strategy;Action & Adventure : 0.011282861333634209\n",
      "Simulation;Education : 0.011282861333634209\n",
      "Role Playing;Brain Games : 0.011282861333634209\n",
      "Racing;Pretend Play : 0.011282861333634209\n",
      "Puzzle;Education : 0.011282861333634209\n",
      "Parenting;Brain Games : 0.011282861333634209\n",
      "Music & Audio;Music & Video : 0.011282861333634209\n",
      "Lifestyle;Pretend Play : 0.011282861333634209\n",
      "Lifestyle;Education : 0.011282861333634209\n",
      "Health & Fitness;Education : 0.011282861333634209\n",
      "Health & Fitness;Action & Adventure : 0.011282861333634209\n",
      "Entertainment;Education : 0.011282861333634209\n",
      "Communication;Creativity : 0.011282861333634209\n",
      "Comics;Creativity : 0.011282861333634209\n",
      "Casual;Music & Video : 0.011282861333634209\n",
      "Card;Action & Adventure : 0.011282861333634209\n",
      "Books & Reference;Education : 0.011282861333634209\n",
      "Art & Design;Pretend Play : 0.011282861333634209\n",
      "Art & Design;Action & Adventure : 0.011282861333634209\n",
      "Arcade;Pretend Play : 0.011282861333634209\n",
      "Adventure;Education : 0.011282861333634209\n",
      "Video Players & Editors;Music & Video : 0.00025460591974803585\n",
      "Sports;Action & Adventure : 0.00025460591974803585\n",
      "Simulation;Pretend Play : 0.00025460591974803585\n",
      "Puzzle;Creativity : 0.00025460591974803585\n",
      "Music;Music & Video : 0.00025460591974803585\n",
      "Entertainment;Pretend Play : 0.00025460591974803585\n",
      "Casual;Education : 0.00025460591974803585\n",
      "Board;Action & Adventure : 0.00025460591974803585\n",
      "Role Playing;Action & Adventure : 4.309024930859233e-06\n",
      "Puzzle;Action & Adventure : 4.309024930859233e-06\n",
      "Entertainment;Creativity : 4.309024930859233e-06\n",
      "Entertainment;Action & Adventure : 4.309024930859233e-06\n",
      "Educational;Creativity : 4.309024930859233e-06\n",
      "Educational;Action & Adventure : 4.309024930859233e-06\n",
      "Education;Music & Video : 4.309024930859233e-06\n",
      "Education;Brain Games : 4.309024930859233e-06\n",
      "Education;Action & Adventure : 4.309024930859233e-06\n",
      "Adventure;Action & Adventure : 4.309024930859233e-06\n",
      "Role Playing;Pretend Play : 6.482417437074328e-08\n",
      "Education;Creativity : 6.482417437074328e-08\n",
      "Education;Pretend Play : 9.142527131155266e-10\n",
      "Parenting;Music & Video : 1.2378463903177611e-11\n",
      "Educational;Brain Games : 1.2378463903177611e-11\n",
      "Casual;Creativity : 1.2378463903177611e-11\n",
      "Art & Design;Creativity : 1.2378463903177611e-11\n",
      "Simulation;Action & Adventure : 1.6294190703344104e-13\n",
      "Parenting;Education : 1.6294190703344104e-13\n",
      "Entertainment;Brain Games : 1.6294190703344104e-13\n",
      "Board;Brain Games : 1.6294190703344104e-13\n",
      "Educational;Pretend Play : 2.1010867914242657e-15\n",
      "Action;Action & Adventure : 2.6669554782266706e-17\n",
      "Arcade;Action & Adventure : 4.1495828761503376e-21\n",
      "Casual;Brain Games : 5.107545620075704e-23\n",
      "Casual;Action & Adventure : 5.107545620075704e-23\n",
      "Racing;Action & Adventure : 9.170225588502946e-29\n",
      "Puzzle;Brain Games : 9.170225588502946e-29\n",
      "Entertainment;Music & Video : 9.170225588502946e-29\n",
      "Music : 1.5805892272985002e-34\n",
      "Casual;Pretend Play : 2.6486438167298545e-40\n",
      "Word : 3.6929259728570046e-44\n",
      "Education;Education : 1.1212404979204571e-57\n",
      "Educational : 1.7715328616436995e-63\n",
      "Board : 2.05936553721415e-65\n",
      "Educational;Education : 2.3918933903171585e-67\n",
      "Trivia : 3.2189482876421515e-71\n",
      "Casino : 3.7300540336351794e-73\n",
      "Card : 4.9983886207555585e-77\n",
      "Parenting : 8.910451426926422e-85\n",
      "Beauty : 3.1805055405688027e-102\n",
      "Art & Design : 3.1805055405688027e-102\n",
      "Comics : 3.656228228669865e-104\n",
      "Adventure : 8.381201694512766e-116\n",
      "Events : 1.2640182468275306e-121\n",
      "Weather : 3.741322520228754e-137\n",
      "House & Home : 4.8969780899712985e-141\n",
      "Strategy : 1.2491944402049327e-154\n",
      "Auto & Vehicles : 1.6300180343866116e-158\n",
      "Role Playing : 1.8615551202737706e-160\n",
      "Libraries & Demo : 1.8615551202737706e-160\n",
      "Racing : 3.608915665073413e-170\n",
      "Puzzle : 1.7455209657545752e-193\n",
      "Food & Drink : 6.419633898951374e-213\n",
      "Maps & Navigation : 3.9211077028319345e-240\n",
      "Casual : 2.3470789955631413e-302\n",
      "Video Players & Editors : 2.6651521761704028e-304\n",
      "Arcade : 6.480165e-318\n",
      "Dating : 7.3616e-320\n",
      "Travel & Local : 0.0\n",
      "Tools : 0.0\n",
      "Sports : 0.0\n",
      "Social : 0.0\n",
      "Simulation : 0.0\n",
      "Shopping : 0.0\n",
      "Productivity : 0.0\n",
      "Photography : 0.0\n",
      "Personalization : 0.0\n",
      "News & Magazines : 0.0\n",
      "Medical : 0.0\n",
      "Lifestyle : 0.0\n",
      "Health & Fitness : 0.0\n",
      "Finance : 0.0\n",
      "Entertainment : 0.0\n",
      "Education : 0.0\n",
      "Communication : 0.0\n",
      "Business : 0.0\n",
      "Books & Reference : 0.0\n",
      "Action : 0.0\n"
     ]
    }
   ],
   "source": [
    "display_table(free_android, 9)"
   ]
  },
  {
   "cell_type": "code",
   "execution_count": 76,
   "metadata": {},
   "outputs": [
    {
     "name": "stdout",
     "output_type": "stream",
     "text": [
      "['CPlus for Craigslist app - mobile classifieds', 'DRAGONS MODS FREE for Minecraft PC Game Edition', 'Face Swap and Copy Free – Switch & Fusion Faces in a Photo', 'Ringtone Remixes - Marimba Remix Ringtones']\n"
     ]
    }
   ],
   "source": [
    "a = list()\n",
    "for app in free_appel :\n",
    "    if app[11] == 'Catalogs' :\n",
    "        a.append(app[1])\n",
    "print(a)"
   ]
  },
  {
   "cell_type": "code",
   "execution_count": 86,
   "metadata": {},
   "outputs": [],
   "source": [
    "def freq_table(dataset, index):\n",
    "    table = {}\n",
    "    total = 0\n",
    "    \n",
    "    for row in dataset:\n",
    "        total += 1\n",
    "        value = row[index]\n",
    "        if value in table:\n",
    "            table[value] += 1\n",
    "        else:\n",
    "            table[value] = 1\n",
    "    \n",
    "    table_percentages = {}\n",
    "    for key in table:\n",
    "        percentage = (table[key] / total) * 100\n",
    "        table_percentages[key] = percentage \n",
    "    \n",
    "    return table_percentages\n",
    "\n",
    "\n",
    "def display_table(dataset, index):\n",
    "    table = freq_table(dataset, index)\n",
    "    table_display = []\n",
    "    for key in table:\n",
    "        key_val_as_tuple = (table[key], key)\n",
    "        table_display.append(key_val_as_tuple)\n",
    "        \n",
    "    table_sorted = sorted(table_display, reverse = True)\n",
    "    for entry in table_sorted:\n",
    "        print(entry[1], ':', entry[0])"
   ]
  },
  {
   "cell_type": "code",
   "execution_count": 87,
   "metadata": {},
   "outputs": [
    {
     "name": "stdout",
     "output_type": "stream",
     "text": [
      "Tools : 8.450863138892023\n",
      "Entertainment : 6.070179397495204\n",
      "Education : 5.348076272142616\n",
      "Business : 4.592124562789123\n",
      "Productivity : 3.8925871601038025\n",
      "Lifestyle : 3.8925871601038025\n",
      "Finance : 3.7007785174320205\n",
      "Medical : 3.5315355974275078\n",
      "Sports : 3.463838429425702\n",
      "Personalization : 3.317161232088458\n",
      "Communication : 3.2381812027530184\n",
      "Action : 3.102786866749408\n",
      "Health & Fitness : 3.0802211440821394\n",
      "Photography : 2.944826808078529\n",
      "News & Magazines : 2.798149610741284\n",
      "Social : 2.6627552747376737\n",
      "Travel & Local : 2.324269434728647\n",
      "Shopping : 2.245289405393208\n",
      "Books & Reference : 2.1437436533904997\n",
      "Simulation : 2.042197901387792\n",
      "Dating : 1.8616721200496444\n",
      "Arcade : 1.8503892587160102\n",
      "Video Players & Editors : 1.771409229380571\n",
      "Casual : 1.7601263680469368\n",
      "Maps & Navigation : 1.399074805370642\n",
      "Food & Drink : 1.241114746699763\n",
      "Puzzle : 1.128286133363421\n",
      "Racing : 0.9928917973598104\n",
      "Role Playing : 0.9364774906916393\n",
      "Libraries & Demo : 0.9364774906916393\n",
      "Auto & Vehicles : 0.9251946293580051\n",
      "Strategy : 0.9026289066907368\n",
      "House & Home : 0.8236488773552973\n",
      "Weather : 0.8010831546880289\n",
      "Events : 0.7108202640189552\n",
      "Adventure : 0.6769716800180525\n",
      "Comics : 0.6092745120162473\n",
      "Beauty : 0.5979916506826132\n",
      "Art & Design : 0.5979916506826132\n",
      "Parenting : 0.4964458986799052\n",
      "Card : 0.4513144533453684\n",
      "Casino : 0.42874873067809993\n",
      "Trivia : 0.4174658693444658\n",
      "Educational;Education : 0.3949001466771973\n",
      "Board : 0.38361728534356315\n",
      "Educational : 0.37233442400992894\n",
      "Education;Education : 0.33848584000902626\n",
      "Word : 0.25950581067358686\n",
      "Casual;Pretend Play : 0.2369400880063184\n",
      "Music : 0.20309150400541578\n",
      "Racing;Action & Adventure : 0.16924292000451313\n",
      "Puzzle;Brain Games : 0.16924292000451313\n",
      "Entertainment;Music & Video : 0.16924292000451313\n",
      "Casual;Brain Games : 0.1353943360036105\n",
      "Casual;Action & Adventure : 0.1353943360036105\n",
      "Arcade;Action & Adventure : 0.1241114746699763\n",
      "Action;Action & Adventure : 0.10154575200270789\n",
      "Educational;Pretend Play : 0.09026289066907367\n",
      "Simulation;Action & Adventure : 0.07898002933543948\n",
      "Parenting;Education : 0.07898002933543948\n",
      "Entertainment;Brain Games : 0.07898002933543948\n",
      "Board;Brain Games : 0.07898002933543948\n",
      "Parenting;Music & Video : 0.06769716800180525\n",
      "Educational;Brain Games : 0.06769716800180525\n",
      "Casual;Creativity : 0.06769716800180525\n",
      "Art & Design;Creativity : 0.06769716800180525\n",
      "Education;Pretend Play : 0.05641430666817105\n",
      "Role Playing;Pretend Play : 0.045131445334536835\n",
      "Education;Creativity : 0.045131445334536835\n",
      "Role Playing;Action & Adventure : 0.033848584000902626\n",
      "Puzzle;Action & Adventure : 0.033848584000902626\n",
      "Entertainment;Creativity : 0.033848584000902626\n",
      "Entertainment;Action & Adventure : 0.033848584000902626\n",
      "Educational;Creativity : 0.033848584000902626\n",
      "Educational;Action & Adventure : 0.033848584000902626\n",
      "Education;Music & Video : 0.033848584000902626\n",
      "Education;Brain Games : 0.033848584000902626\n",
      "Education;Action & Adventure : 0.033848584000902626\n",
      "Adventure;Action & Adventure : 0.033848584000902626\n",
      "Video Players & Editors;Music & Video : 0.022565722667268417\n",
      "Sports;Action & Adventure : 0.022565722667268417\n",
      "Simulation;Pretend Play : 0.022565722667268417\n",
      "Puzzle;Creativity : 0.022565722667268417\n",
      "Music;Music & Video : 0.022565722667268417\n",
      "Entertainment;Pretend Play : 0.022565722667268417\n",
      "Casual;Education : 0.022565722667268417\n",
      "Board;Action & Adventure : 0.022565722667268417\n",
      "Video Players & Editors;Creativity : 0.011282861333634209\n",
      "Trivia;Education : 0.011282861333634209\n",
      "Travel & Local;Action & Adventure : 0.011282861333634209\n",
      "Tools;Education : 0.011282861333634209\n",
      "Strategy;Education : 0.011282861333634209\n",
      "Strategy;Creativity : 0.011282861333634209\n",
      "Strategy;Action & Adventure : 0.011282861333634209\n",
      "Simulation;Education : 0.011282861333634209\n",
      "Role Playing;Brain Games : 0.011282861333634209\n",
      "Racing;Pretend Play : 0.011282861333634209\n",
      "Puzzle;Education : 0.011282861333634209\n",
      "Parenting;Brain Games : 0.011282861333634209\n",
      "Music & Audio;Music & Video : 0.011282861333634209\n",
      "Lifestyle;Pretend Play : 0.011282861333634209\n",
      "Lifestyle;Education : 0.011282861333634209\n",
      "Health & Fitness;Education : 0.011282861333634209\n",
      "Health & Fitness;Action & Adventure : 0.011282861333634209\n",
      "Entertainment;Education : 0.011282861333634209\n",
      "Communication;Creativity : 0.011282861333634209\n",
      "Comics;Creativity : 0.011282861333634209\n",
      "Casual;Music & Video : 0.011282861333634209\n",
      "Card;Action & Adventure : 0.011282861333634209\n",
      "Books & Reference;Education : 0.011282861333634209\n",
      "Art & Design;Pretend Play : 0.011282861333634209\n",
      "Art & Design;Action & Adventure : 0.011282861333634209\n",
      "Arcade;Pretend Play : 0.011282861333634209\n",
      "Adventure;Education : 0.011282861333634209\n"
     ]
    }
   ],
   "source": [
    "display_table(free_android, 9)"
   ]
  },
  {
   "cell_type": "code",
   "execution_count": 89,
   "metadata": {},
   "outputs": [
    {
     "name": "stdout",
     "output_type": "stream",
     "text": [
      "FAMILY : 18.898792733837304\n",
      "GAME : 9.725826469592688\n",
      "TOOLS : 8.462146000225657\n",
      "BUSINESS : 4.592124562789123\n",
      "LIFESTYLE : 3.9038700214374367\n",
      "PRODUCTIVITY : 3.8925871601038025\n",
      "FINANCE : 3.7007785174320205\n",
      "MEDICAL : 3.5315355974275078\n",
      "SPORTS : 3.396141261423897\n",
      "PERSONALIZATION : 3.317161232088458\n",
      "COMMUNICATION : 3.2381812027530184\n",
      "HEALTH_AND_FITNESS : 3.0802211440821394\n",
      "PHOTOGRAPHY : 2.944826808078529\n",
      "NEWS_AND_MAGAZINES : 2.798149610741284\n",
      "SOCIAL : 2.6627552747376737\n",
      "TRAVEL_AND_LOCAL : 2.335552296062281\n",
      "SHOPPING : 2.245289405393208\n",
      "BOOKS_AND_REFERENCE : 2.1437436533904997\n",
      "DATING : 1.8616721200496444\n",
      "VIDEO_PLAYERS : 1.7939749520478394\n",
      "MAPS_AND_NAVIGATION : 1.399074805370642\n",
      "FOOD_AND_DRINK : 1.241114746699763\n",
      "EDUCATION : 1.1621347173643235\n",
      "ENTERTAINMENT : 0.9590432133589079\n",
      "LIBRARIES_AND_DEMO : 0.9364774906916393\n",
      "AUTO_AND_VEHICLES : 0.9251946293580051\n",
      "HOUSE_AND_HOME : 0.8236488773552973\n",
      "WEATHER : 0.8010831546880289\n",
      "EVENTS : 0.7108202640189552\n",
      "PARENTING : 0.6544059573507841\n",
      "ART_AND_DESIGN : 0.6431230960171499\n",
      "COMICS : 0.6205573733498815\n",
      "BEAUTY : 0.5979916506826132\n"
     ]
    }
   ],
   "source": [
    "display_table(free_android, 1)"
   ]
  },
  {
   "cell_type": "code",
   "execution_count": 91,
   "metadata": {},
   "outputs": [
    {
     "name": "stdout",
     "output_type": "stream",
     "text": [
      "Games : 58.16263190564867\n",
      "Entertainment : 7.883302296710118\n",
      "Photo & Video : 4.9658597144630665\n",
      "Education : 3.662321539416512\n",
      "Social Networking : 3.2898820608317814\n",
      "Shopping : 2.60707635009311\n",
      "Utilities : 2.5139664804469275\n",
      "Sports : 2.1415270018621975\n",
      "Music : 2.0484171322160147\n",
      "Health & Fitness : 2.0173805090006205\n",
      "Productivity : 1.7380509000620732\n",
      "Lifestyle : 1.5828677839851024\n",
      "News : 1.3345747982619491\n",
      "Travel : 1.2414649286157666\n",
      "Finance : 1.1173184357541899\n",
      "Weather : 0.8690254500310366\n",
      "Food & Drink : 0.8069522036002483\n",
      "Reference : 0.5586592178770949\n",
      "Business : 0.5276225946617008\n",
      "Book : 0.4345127250155183\n",
      "Navigation : 0.186219739292365\n",
      "Medical : 0.186219739292365\n",
      "Catalogs : 0.12414649286157665\n"
     ]
    }
   ],
   "source": [
    "display_table(free_appel, 11)"
   ]
  },
  {
   "cell_type": "code",
   "execution_count": 94,
   "metadata": {},
   "outputs": [
    {
     "name": "stdout",
     "output_type": "stream",
     "text": [
      "Social Networking 71548.34905660378\n",
      "Photo & Video 28441.54375\n",
      "Games 22788.6696905016\n",
      "Music 57326.530303030304\n",
      "Reference 74942.11111111111\n",
      "Health & Fitness 23298.015384615384\n",
      "Weather 52279.892857142855\n",
      "Utilities 18684.456790123455\n",
      "Travel 28243.8\n",
      "Shopping 26919.690476190477\n",
      "News 21248.023255813954\n",
      "Navigation 86090.33333333333\n",
      "Lifestyle 16485.764705882353\n",
      "Entertainment 14029.830708661417\n",
      "Food & Drink 33333.92307692308\n",
      "Sports 23008.898550724636\n",
      "Book 39758.5\n",
      "Finance 31467.944444444445\n",
      "Education 7003.983050847458\n",
      "Productivity 21028.410714285714\n",
      "Business 7491.117647058823\n",
      "Catalogs 4004.0\n",
      "Medical 612.0\n"
     ]
    }
   ],
   "source": [
    "appel_genre = freq_table(free_appel, 11)\n",
    "for genre in appel_genre :\n",
    "    total = 0\n",
    "    len_genre = 0\n",
    "    for app in free_appel :\n",
    "        genre_app = app[11]\n",
    "        if genre_app == genre :\n",
    "            rating_num = app[5]\n",
    "            total += float(rating_num)\n",
    "            len_genre += 1\n",
    "    rating_num_avg = total / len_genre\n",
    "    print(genre, rating_num_avg)"
   ]
  },
  {
   "cell_type": "code",
   "execution_count": null,
   "metadata": {},
   "outputs": [],
   "source": []
  }
 ],
 "metadata": {
  "kernelspec": {
   "display_name": "Python 3",
   "language": "python",
   "name": "python3"
  },
  "language_info": {
   "codemirror_mode": {
    "name": "ipython",
    "version": 3
   },
   "file_extension": ".py",
   "mimetype": "text/x-python",
   "name": "python",
   "nbconvert_exporter": "python",
   "pygments_lexer": "ipython3",
   "version": "3.7.7"
  }
 },
 "nbformat": 4,
 "nbformat_minor": 4
}
